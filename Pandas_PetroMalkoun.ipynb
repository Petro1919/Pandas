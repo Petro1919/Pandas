{
 "cells": [
  {
   "cell_type": "code",
   "execution_count": 1,
   "metadata": {},
   "outputs": [],
   "source": [
    "from IPython.core.interactiveshell import InteractiveShell\n",
    "InteractiveShell.ast_node_interactivity = \"all\"\n",
    "\n",
    "%matplotlib inline\n",
    "\n",
    "import pandas as pd\n",
    "import numpy as np\n",
    "import matplotlib.pyplot as plt\n",
    "import seaborn as sns\n",
    "sns.set_style(\"whitegrid\")\n",
    "sns.set_context(\"notebook\")\n",
    "#sns.set_context(\"poster\")"
   ]
  },
  {
   "cell_type": "markdown",
   "metadata": {},
   "source": [
    "![text](pandas.jpg)"
   ]
  },
  {
   "cell_type": "markdown",
   "metadata": {},
   "source": [
    "<h1>Create</h1>"
   ]
  },
  {
   "cell_type": "code",
   "execution_count": 2,
   "metadata": {},
   "outputs": [],
   "source": [
    "# Wikipedia 2017 - entry \"Economy of Europe\"\n",
    "# Creation of a Data Frame using a Dictionnary \n",
    "#\n",
    "eu_metro_areas=pd.DataFrame({\"City\": [\"London\",\"Paris\",\"Moscow\",\"Madrid\",\"Barcelona\",\n",
    "                                      \"Rome\",\"Milan\",\"Vienna\",\"Lisbon\",\"Athens\",\"Berlin\",\"Bucharest\"],\n",
    "                             \"Rank\": [1,2,3,4,5,6,7,8,9,10,11,12],\n",
    "                             \"GDP\" : [732,669,520,230,177,144,136,122,98,96,95,51],\n",
    "                             \"Population\": [11.9,11.5,11.5,5.8,4.97,4.34,3.2,2.18,2.44,4.01,4.97,2.3],\n",
    "                             \"GDP per Capita\": [61.5,62.4,45.2,39.7,35.6,41.6,44.2,56.0,40.2,23.9,19.1,23.3],\n",
    "                             \"Eurozone\": [\"N\",\"Y\",\"N\",\"Y\",\"Y\",\"Y\",\"Y\",\"Y\",\"Y\",\"Y\",\"Y\",\"N\"]})"
   ]
  },
  {
   "cell_type": "code",
   "execution_count": 3,
   "metadata": {},
   "outputs": [
    {
     "data": {
      "text/html": [
       "<div>\n",
       "<style scoped>\n",
       "    .dataframe tbody tr th:only-of-type {\n",
       "        vertical-align: middle;\n",
       "    }\n",
       "\n",
       "    .dataframe tbody tr th {\n",
       "        vertical-align: top;\n",
       "    }\n",
       "\n",
       "    .dataframe thead th {\n",
       "        text-align: right;\n",
       "    }\n",
       "</style>\n",
       "<table border=\"1\" class=\"dataframe\">\n",
       "  <thead>\n",
       "    <tr style=\"text-align: right;\">\n",
       "      <th></th>\n",
       "      <th>City</th>\n",
       "      <th>Rank</th>\n",
       "      <th>GDP</th>\n",
       "      <th>Population</th>\n",
       "      <th>GDP per Capita</th>\n",
       "      <th>Eurozone</th>\n",
       "    </tr>\n",
       "  </thead>\n",
       "  <tbody>\n",
       "    <tr>\n",
       "      <td>0</td>\n",
       "      <td>London</td>\n",
       "      <td>1</td>\n",
       "      <td>732</td>\n",
       "      <td>11.90</td>\n",
       "      <td>61.5</td>\n",
       "      <td>N</td>\n",
       "    </tr>\n",
       "    <tr>\n",
       "      <td>1</td>\n",
       "      <td>Paris</td>\n",
       "      <td>2</td>\n",
       "      <td>669</td>\n",
       "      <td>11.50</td>\n",
       "      <td>62.4</td>\n",
       "      <td>Y</td>\n",
       "    </tr>\n",
       "    <tr>\n",
       "      <td>2</td>\n",
       "      <td>Moscow</td>\n",
       "      <td>3</td>\n",
       "      <td>520</td>\n",
       "      <td>11.50</td>\n",
       "      <td>45.2</td>\n",
       "      <td>N</td>\n",
       "    </tr>\n",
       "    <tr>\n",
       "      <td>3</td>\n",
       "      <td>Madrid</td>\n",
       "      <td>4</td>\n",
       "      <td>230</td>\n",
       "      <td>5.80</td>\n",
       "      <td>39.7</td>\n",
       "      <td>Y</td>\n",
       "    </tr>\n",
       "    <tr>\n",
       "      <td>4</td>\n",
       "      <td>Barcelona</td>\n",
       "      <td>5</td>\n",
       "      <td>177</td>\n",
       "      <td>4.97</td>\n",
       "      <td>35.6</td>\n",
       "      <td>Y</td>\n",
       "    </tr>\n",
       "    <tr>\n",
       "      <td>5</td>\n",
       "      <td>Rome</td>\n",
       "      <td>6</td>\n",
       "      <td>144</td>\n",
       "      <td>4.34</td>\n",
       "      <td>41.6</td>\n",
       "      <td>Y</td>\n",
       "    </tr>\n",
       "    <tr>\n",
       "      <td>6</td>\n",
       "      <td>Milan</td>\n",
       "      <td>7</td>\n",
       "      <td>136</td>\n",
       "      <td>3.20</td>\n",
       "      <td>44.2</td>\n",
       "      <td>Y</td>\n",
       "    </tr>\n",
       "    <tr>\n",
       "      <td>7</td>\n",
       "      <td>Vienna</td>\n",
       "      <td>8</td>\n",
       "      <td>122</td>\n",
       "      <td>2.18</td>\n",
       "      <td>56.0</td>\n",
       "      <td>Y</td>\n",
       "    </tr>\n",
       "    <tr>\n",
       "      <td>8</td>\n",
       "      <td>Lisbon</td>\n",
       "      <td>9</td>\n",
       "      <td>98</td>\n",
       "      <td>2.44</td>\n",
       "      <td>40.2</td>\n",
       "      <td>Y</td>\n",
       "    </tr>\n",
       "    <tr>\n",
       "      <td>9</td>\n",
       "      <td>Athens</td>\n",
       "      <td>10</td>\n",
       "      <td>96</td>\n",
       "      <td>4.01</td>\n",
       "      <td>23.9</td>\n",
       "      <td>Y</td>\n",
       "    </tr>\n",
       "    <tr>\n",
       "      <td>10</td>\n",
       "      <td>Berlin</td>\n",
       "      <td>11</td>\n",
       "      <td>95</td>\n",
       "      <td>4.97</td>\n",
       "      <td>19.1</td>\n",
       "      <td>Y</td>\n",
       "    </tr>\n",
       "    <tr>\n",
       "      <td>11</td>\n",
       "      <td>Bucharest</td>\n",
       "      <td>12</td>\n",
       "      <td>51</td>\n",
       "      <td>2.30</td>\n",
       "      <td>23.3</td>\n",
       "      <td>N</td>\n",
       "    </tr>\n",
       "  </tbody>\n",
       "</table>\n",
       "</div>"
      ],
      "text/plain": [
       "         City  Rank  GDP  Population  GDP per Capita Eurozone\n",
       "0      London     1  732       11.90            61.5        N\n",
       "1       Paris     2  669       11.50            62.4        Y\n",
       "2      Moscow     3  520       11.50            45.2        N\n",
       "3      Madrid     4  230        5.80            39.7        Y\n",
       "4   Barcelona     5  177        4.97            35.6        Y\n",
       "5        Rome     6  144        4.34            41.6        Y\n",
       "6       Milan     7  136        3.20            44.2        Y\n",
       "7      Vienna     8  122        2.18            56.0        Y\n",
       "8      Lisbon     9   98        2.44            40.2        Y\n",
       "9      Athens    10   96        4.01            23.9        Y\n",
       "10     Berlin    11   95        4.97            19.1        Y\n",
       "11  Bucharest    12   51        2.30            23.3        N"
      ]
     },
     "execution_count": 3,
     "metadata": {},
     "output_type": "execute_result"
    }
   ],
   "source": [
    "eu_metro_areas"
   ]
  },
  {
   "cell_type": "code",
   "execution_count": 4,
   "metadata": {},
   "outputs": [
    {
     "data": {
      "text/html": [
       "<div>\n",
       "<style scoped>\n",
       "    .dataframe tbody tr th:only-of-type {\n",
       "        vertical-align: middle;\n",
       "    }\n",
       "\n",
       "    .dataframe tbody tr th {\n",
       "        vertical-align: top;\n",
       "    }\n",
       "\n",
       "    .dataframe thead th {\n",
       "        text-align: right;\n",
       "    }\n",
       "</style>\n",
       "<table border=\"1\" class=\"dataframe\">\n",
       "  <thead>\n",
       "    <tr style=\"text-align: right;\">\n",
       "      <th></th>\n",
       "      <th>City</th>\n",
       "      <th>Rank</th>\n",
       "      <th>GDP</th>\n",
       "      <th>Population</th>\n",
       "      <th>GDP per Capita</th>\n",
       "      <th>Eurozone</th>\n",
       "    </tr>\n",
       "  </thead>\n",
       "  <tbody>\n",
       "    <tr>\n",
       "      <td>0</td>\n",
       "      <td>London</td>\n",
       "      <td>1</td>\n",
       "      <td>732</td>\n",
       "      <td>11.90</td>\n",
       "      <td>61.5</td>\n",
       "      <td>N</td>\n",
       "    </tr>\n",
       "    <tr>\n",
       "      <td>1</td>\n",
       "      <td>Paris</td>\n",
       "      <td>2</td>\n",
       "      <td>669</td>\n",
       "      <td>11.50</td>\n",
       "      <td>62.4</td>\n",
       "      <td>Y</td>\n",
       "    </tr>\n",
       "    <tr>\n",
       "      <td>2</td>\n",
       "      <td>Moscow</td>\n",
       "      <td>3</td>\n",
       "      <td>520</td>\n",
       "      <td>11.50</td>\n",
       "      <td>62.4</td>\n",
       "      <td>Y</td>\n",
       "    </tr>\n",
       "    <tr>\n",
       "      <td>3</td>\n",
       "      <td>Madrid</td>\n",
       "      <td>4</td>\n",
       "      <td>230</td>\n",
       "      <td>5.80</td>\n",
       "      <td>39.7</td>\n",
       "      <td>Y</td>\n",
       "    </tr>\n",
       "    <tr>\n",
       "      <td>4</td>\n",
       "      <td>Barcelona</td>\n",
       "      <td>5</td>\n",
       "      <td>177</td>\n",
       "      <td>4.97</td>\n",
       "      <td>35.6</td>\n",
       "      <td>Y</td>\n",
       "    </tr>\n",
       "    <tr>\n",
       "      <td>5</td>\n",
       "      <td>Rome</td>\n",
       "      <td>6</td>\n",
       "      <td>144</td>\n",
       "      <td>4.34</td>\n",
       "      <td>41.6</td>\n",
       "      <td>Y</td>\n",
       "    </tr>\n",
       "    <tr>\n",
       "      <td>6</td>\n",
       "      <td>Milan</td>\n",
       "      <td>7</td>\n",
       "      <td>136</td>\n",
       "      <td>3.20</td>\n",
       "      <td>44.2</td>\n",
       "      <td>Y</td>\n",
       "    </tr>\n",
       "    <tr>\n",
       "      <td>7</td>\n",
       "      <td>Vienna</td>\n",
       "      <td>8</td>\n",
       "      <td>122</td>\n",
       "      <td>2.18</td>\n",
       "      <td>56.0</td>\n",
       "      <td>Y</td>\n",
       "    </tr>\n",
       "    <tr>\n",
       "      <td>8</td>\n",
       "      <td>Lisbon</td>\n",
       "      <td>9</td>\n",
       "      <td>98</td>\n",
       "      <td>2.44</td>\n",
       "      <td>40.2</td>\n",
       "      <td>Y</td>\n",
       "    </tr>\n",
       "    <tr>\n",
       "      <td>9</td>\n",
       "      <td>Athens</td>\n",
       "      <td>10</td>\n",
       "      <td>96</td>\n",
       "      <td>4.01</td>\n",
       "      <td>23.9</td>\n",
       "      <td>Y</td>\n",
       "    </tr>\n",
       "    <tr>\n",
       "      <td>10</td>\n",
       "      <td>Berlin</td>\n",
       "      <td>11</td>\n",
       "      <td>95</td>\n",
       "      <td>4.97</td>\n",
       "      <td>19.1</td>\n",
       "      <td>Y</td>\n",
       "    </tr>\n",
       "    <tr>\n",
       "      <td>11</td>\n",
       "      <td>Bucharest</td>\n",
       "      <td>12</td>\n",
       "      <td>51</td>\n",
       "      <td>2.30</td>\n",
       "      <td>23.3</td>\n",
       "      <td>N</td>\n",
       "    </tr>\n",
       "  </tbody>\n",
       "</table>\n",
       "</div>"
      ],
      "text/plain": [
       "         City  Rank  GDP  Population  GDP per Capita Eurozone\n",
       "0      London     1  732       11.90            61.5        N\n",
       "1       Paris     2  669       11.50            62.4        Y\n",
       "2      Moscow     3  520       11.50            62.4        Y\n",
       "3      Madrid     4  230        5.80            39.7        Y\n",
       "4   Barcelona     5  177        4.97            35.6        Y\n",
       "5        Rome     6  144        4.34            41.6        Y\n",
       "6       Milan     7  136        3.20            44.2        Y\n",
       "7      Vienna     8  122        2.18            56.0        Y\n",
       "8      Lisbon     9   98        2.44            40.2        Y\n",
       "9      Athens    10   96        4.01            23.9        Y\n",
       "10     Berlin    11   95        4.97            19.1        Y\n",
       "11  Bucharest    12   51        2.30            23.3        N"
      ]
     },
     "execution_count": 4,
     "metadata": {},
     "output_type": "execute_result"
    }
   ],
   "source": [
    "#Creation of a Data Frame using lists \n",
    "#\n",
    "eu_metro_areas1=pd.DataFrame([[\"London\",1,732,11.9,61.5,\"N\"],\n",
    "                              [\"Paris\",2,669,11.5,62.4,\"Y\"],\n",
    "                              [\"Moscow\",3,520,11.5,62.4,\"Y\"],\n",
    "                              [\"Madrid\",4,230,5.8,39.7,\"Y\"],\n",
    "                              [\"Barcelona\",5,177,4.97,35.6,\"Y\"],\n",
    "                              [\"Rome\",6,144,4.34,41.6,\"Y\"],\n",
    "                              [\"Milan\",7,136,3.2,44.2,\"Y\"],\n",
    "                              [\"Vienna\",8,122,2.18,56.0,\"Y\"],\n",
    "                              [\"Lisbon\",9,98,2.44,40.2,\"Y\"],\n",
    "                              [\"Athens\",10,96,4.01,23.9,\"Y\"],\n",
    "                              [\"Berlin\",11,95,4.97,19.1,\"Y\"],\n",
    "                              [\"Bucharest\",12,51,2.3,23.3,\"N\"]],\n",
    "                              columns=[\"City\",\"Rank\",\"GDP\",\"Population\",\"GDP per Capita\",\"Eurozone\"])\n",
    "eu_metro_areas1"
   ]
  },
  {
   "cell_type": "markdown",
   "metadata": {},
   "source": [
    "# Import"
   ]
  },
  {
   "cell_type": "code",
   "execution_count": 5,
   "metadata": {
    "scrolled": true
   },
   "outputs": [
    {
     "data": {
      "text/html": [
       "<div>\n",
       "<style scoped>\n",
       "    .dataframe tbody tr th:only-of-type {\n",
       "        vertical-align: middle;\n",
       "    }\n",
       "\n",
       "    .dataframe tbody tr th {\n",
       "        vertical-align: top;\n",
       "    }\n",
       "\n",
       "    .dataframe thead th {\n",
       "        text-align: right;\n",
       "    }\n",
       "</style>\n",
       "<table border=\"1\" class=\"dataframe\">\n",
       "  <thead>\n",
       "    <tr style=\"text-align: right;\">\n",
       "      <th></th>\n",
       "      <th>City</th>\n",
       "      <th>Rank</th>\n",
       "      <th>GDP</th>\n",
       "      <th>Population</th>\n",
       "      <th>GDP per Capita</th>\n",
       "      <th>Eurozone</th>\n",
       "    </tr>\n",
       "  </thead>\n",
       "  <tbody>\n",
       "    <tr>\n",
       "      <td>0</td>\n",
       "      <td>London</td>\n",
       "      <td>1</td>\n",
       "      <td>732</td>\n",
       "      <td>11.90</td>\n",
       "      <td>61.5</td>\n",
       "      <td>N</td>\n",
       "    </tr>\n",
       "    <tr>\n",
       "      <td>1</td>\n",
       "      <td>Paris</td>\n",
       "      <td>2</td>\n",
       "      <td>669</td>\n",
       "      <td>11.50</td>\n",
       "      <td>62.4</td>\n",
       "      <td>Y</td>\n",
       "    </tr>\n",
       "    <tr>\n",
       "      <td>2</td>\n",
       "      <td>Moscow</td>\n",
       "      <td>3</td>\n",
       "      <td>520</td>\n",
       "      <td>11.50</td>\n",
       "      <td>45.2</td>\n",
       "      <td>N</td>\n",
       "    </tr>\n",
       "    <tr>\n",
       "      <td>3</td>\n",
       "      <td>Madrid</td>\n",
       "      <td>4</td>\n",
       "      <td>230</td>\n",
       "      <td>5.80</td>\n",
       "      <td>39.7</td>\n",
       "      <td>Y</td>\n",
       "    </tr>\n",
       "    <tr>\n",
       "      <td>4</td>\n",
       "      <td>Barcelona</td>\n",
       "      <td>5</td>\n",
       "      <td>177</td>\n",
       "      <td>4.97</td>\n",
       "      <td>35.6</td>\n",
       "      <td>Y</td>\n",
       "    </tr>\n",
       "    <tr>\n",
       "      <td>5</td>\n",
       "      <td>Rome</td>\n",
       "      <td>6</td>\n",
       "      <td>144</td>\n",
       "      <td>4.34</td>\n",
       "      <td>41.6</td>\n",
       "      <td>Y</td>\n",
       "    </tr>\n",
       "    <tr>\n",
       "      <td>6</td>\n",
       "      <td>Milan</td>\n",
       "      <td>7</td>\n",
       "      <td>136</td>\n",
       "      <td>3.20</td>\n",
       "      <td>44.2</td>\n",
       "      <td>Y</td>\n",
       "    </tr>\n",
       "    <tr>\n",
       "      <td>7</td>\n",
       "      <td>Vienna</td>\n",
       "      <td>8</td>\n",
       "      <td>122</td>\n",
       "      <td>2.18</td>\n",
       "      <td>56.0</td>\n",
       "      <td>Y</td>\n",
       "    </tr>\n",
       "    <tr>\n",
       "      <td>8</td>\n",
       "      <td>Lisbon</td>\n",
       "      <td>9</td>\n",
       "      <td>98</td>\n",
       "      <td>2.44</td>\n",
       "      <td>40.2</td>\n",
       "      <td>Y</td>\n",
       "    </tr>\n",
       "    <tr>\n",
       "      <td>9</td>\n",
       "      <td>Athens</td>\n",
       "      <td>10</td>\n",
       "      <td>96</td>\n",
       "      <td>4.01</td>\n",
       "      <td>23.9</td>\n",
       "      <td>Y</td>\n",
       "    </tr>\n",
       "    <tr>\n",
       "      <td>10</td>\n",
       "      <td>Berlin</td>\n",
       "      <td>11</td>\n",
       "      <td>95</td>\n",
       "      <td>4.97</td>\n",
       "      <td>19.1</td>\n",
       "      <td>Y</td>\n",
       "    </tr>\n",
       "    <tr>\n",
       "      <td>11</td>\n",
       "      <td>Bucharest</td>\n",
       "      <td>12</td>\n",
       "      <td>51</td>\n",
       "      <td>2.30</td>\n",
       "      <td>23.3</td>\n",
       "      <td>N</td>\n",
       "    </tr>\n",
       "  </tbody>\n",
       "</table>\n",
       "</div>"
      ],
      "text/plain": [
       "         City  Rank  GDP  Population  GDP per Capita Eurozone\n",
       "0      London     1  732       11.90            61.5        N\n",
       "1       Paris     2  669       11.50            62.4        Y\n",
       "2      Moscow     3  520       11.50            45.2        N\n",
       "3      Madrid     4  230        5.80            39.7        Y\n",
       "4   Barcelona     5  177        4.97            35.6        Y\n",
       "5        Rome     6  144        4.34            41.6        Y\n",
       "6       Milan     7  136        3.20            44.2        Y\n",
       "7      Vienna     8  122        2.18            56.0        Y\n",
       "8      Lisbon     9   98        2.44            40.2        Y\n",
       "9      Athens    10   96        4.01            23.9        Y\n",
       "10     Berlin    11   95        4.97            19.1        Y\n",
       "11  Bucharest    12   51        2.30            23.3        N"
      ]
     },
     "execution_count": 5,
     "metadata": {},
     "output_type": "execute_result"
    }
   ],
   "source": [
    "#Import from a csv file\n",
    "#\n",
    "eu_metro_areas3=pd.read_csv(\"eu_metro_areas.csv\",sep=\";\")\n",
    "eu_metro_areas3\n"
   ]
  },
  {
   "cell_type": "code",
   "execution_count": 6,
   "metadata": {},
   "outputs": [
    {
     "data": {
      "text/html": [
       "<div>\n",
       "<style scoped>\n",
       "    .dataframe tbody tr th:only-of-type {\n",
       "        vertical-align: middle;\n",
       "    }\n",
       "\n",
       "    .dataframe tbody tr th {\n",
       "        vertical-align: top;\n",
       "    }\n",
       "\n",
       "    .dataframe thead th {\n",
       "        text-align: right;\n",
       "    }\n",
       "</style>\n",
       "<table border=\"1\" class=\"dataframe\">\n",
       "  <thead>\n",
       "    <tr style=\"text-align: right;\">\n",
       "      <th></th>\n",
       "      <th>City</th>\n",
       "      <th>Rank</th>\n",
       "      <th>GDP</th>\n",
       "      <th>Population</th>\n",
       "      <th>GDP per Capita</th>\n",
       "      <th>Eurozone</th>\n",
       "    </tr>\n",
       "  </thead>\n",
       "  <tbody>\n",
       "    <tr>\n",
       "      <td>0</td>\n",
       "      <td>London</td>\n",
       "      <td>1</td>\n",
       "      <td>732</td>\n",
       "      <td>11.90</td>\n",
       "      <td>61.5</td>\n",
       "      <td>N</td>\n",
       "    </tr>\n",
       "    <tr>\n",
       "      <td>1</td>\n",
       "      <td>Paris</td>\n",
       "      <td>2</td>\n",
       "      <td>669</td>\n",
       "      <td>11.50</td>\n",
       "      <td>62.4</td>\n",
       "      <td>Y</td>\n",
       "    </tr>\n",
       "    <tr>\n",
       "      <td>2</td>\n",
       "      <td>Moscow</td>\n",
       "      <td>3</td>\n",
       "      <td>520</td>\n",
       "      <td>11.50</td>\n",
       "      <td>45.2</td>\n",
       "      <td>N</td>\n",
       "    </tr>\n",
       "    <tr>\n",
       "      <td>3</td>\n",
       "      <td>Madrid</td>\n",
       "      <td>4</td>\n",
       "      <td>230</td>\n",
       "      <td>5.80</td>\n",
       "      <td>39.7</td>\n",
       "      <td>Y</td>\n",
       "    </tr>\n",
       "    <tr>\n",
       "      <td>4</td>\n",
       "      <td>Barcelona</td>\n",
       "      <td>5</td>\n",
       "      <td>177</td>\n",
       "      <td>4.97</td>\n",
       "      <td>35.6</td>\n",
       "      <td>Y</td>\n",
       "    </tr>\n",
       "    <tr>\n",
       "      <td>5</td>\n",
       "      <td>Rome</td>\n",
       "      <td>6</td>\n",
       "      <td>144</td>\n",
       "      <td>4.34</td>\n",
       "      <td>41.6</td>\n",
       "      <td>Y</td>\n",
       "    </tr>\n",
       "    <tr>\n",
       "      <td>6</td>\n",
       "      <td>Milan</td>\n",
       "      <td>7</td>\n",
       "      <td>136</td>\n",
       "      <td>3.20</td>\n",
       "      <td>44.2</td>\n",
       "      <td>Y</td>\n",
       "    </tr>\n",
       "    <tr>\n",
       "      <td>7</td>\n",
       "      <td>Vienna</td>\n",
       "      <td>8</td>\n",
       "      <td>122</td>\n",
       "      <td>2.18</td>\n",
       "      <td>56.0</td>\n",
       "      <td>Y</td>\n",
       "    </tr>\n",
       "    <tr>\n",
       "      <td>8</td>\n",
       "      <td>Lisbon</td>\n",
       "      <td>9</td>\n",
       "      <td>98</td>\n",
       "      <td>2.44</td>\n",
       "      <td>40.2</td>\n",
       "      <td>Y</td>\n",
       "    </tr>\n",
       "    <tr>\n",
       "      <td>9</td>\n",
       "      <td>Athens</td>\n",
       "      <td>10</td>\n",
       "      <td>96</td>\n",
       "      <td>4.01</td>\n",
       "      <td>23.9</td>\n",
       "      <td>Y</td>\n",
       "    </tr>\n",
       "    <tr>\n",
       "      <td>10</td>\n",
       "      <td>Berlin</td>\n",
       "      <td>11</td>\n",
       "      <td>95</td>\n",
       "      <td>4.97</td>\n",
       "      <td>19.1</td>\n",
       "      <td>Y</td>\n",
       "    </tr>\n",
       "    <tr>\n",
       "      <td>11</td>\n",
       "      <td>Bucharest</td>\n",
       "      <td>12</td>\n",
       "      <td>51</td>\n",
       "      <td>2.30</td>\n",
       "      <td>23.3</td>\n",
       "      <td>N</td>\n",
       "    </tr>\n",
       "  </tbody>\n",
       "</table>\n",
       "</div>"
      ],
      "text/plain": [
       "         City  Rank  GDP  Population  GDP per Capita Eurozone\n",
       "0      London     1  732       11.90            61.5        N\n",
       "1       Paris     2  669       11.50            62.4        Y\n",
       "2      Moscow     3  520       11.50            45.2        N\n",
       "3      Madrid     4  230        5.80            39.7        Y\n",
       "4   Barcelona     5  177        4.97            35.6        Y\n",
       "5        Rome     6  144        4.34            41.6        Y\n",
       "6       Milan     7  136        3.20            44.2        Y\n",
       "7      Vienna     8  122        2.18            56.0        Y\n",
       "8      Lisbon     9   98        2.44            40.2        Y\n",
       "9      Athens    10   96        4.01            23.9        Y\n",
       "10     Berlin    11   95        4.97            19.1        Y\n",
       "11  Bucharest    12   51        2.30            23.3        N"
      ]
     },
     "execution_count": 6,
     "metadata": {},
     "output_type": "execute_result"
    }
   ],
   "source": [
    "# Importing from an Excel file \n",
    "#\n",
    "eu_metro_areas4=pd.read_excel(\"eu_metro_areas.xlsx\")\n",
    "eu_metro_areas4\n"
   ]
  },
  {
   "cell_type": "code",
   "execution_count": 7,
   "metadata": {
    "scrolled": true
   },
   "outputs": [
    {
     "ename": "ModuleNotFoundError",
     "evalue": "No module named 'qgrid'",
     "output_type": "error",
     "traceback": [
      "\u001b[1;31m---------------------------------------------------------------------------\u001b[0m",
      "\u001b[1;31mModuleNotFoundError\u001b[0m                       Traceback (most recent call last)",
      "\u001b[1;32m<ipython-input-7-0603d085fe0d>\u001b[0m in \u001b[0;36m<module>\u001b[1;34m\u001b[0m\n\u001b[0;32m     15\u001b[0m \u001b[1;33m\u001b[0m\u001b[0m\n\u001b[0;32m     16\u001b[0m \u001b[1;32mimport\u001b[0m \u001b[0mipywidgets\u001b[0m \u001b[1;32mas\u001b[0m \u001b[0mwidgets\u001b[0m\u001b[1;33m\u001b[0m\u001b[1;33m\u001b[0m\u001b[0m\n\u001b[1;32m---> 17\u001b[1;33m \u001b[1;32mimport\u001b[0m \u001b[0mqgrid\u001b[0m\u001b[1;33m\u001b[0m\u001b[1;33m\u001b[0m\u001b[0m\n\u001b[0m\u001b[0;32m     18\u001b[0m \u001b[1;33m\u001b[0m\u001b[0m\n\u001b[0;32m     19\u001b[0m \u001b[1;33m\u001b[0m\u001b[0m\n",
      "\u001b[1;31mModuleNotFoundError\u001b[0m: No module named 'qgrid'"
     ]
    }
   ],
   "source": [
    "# Managing the data frame interactively\n",
    "# ! pip install qgrid\n",
    "# ! jupyter nbextension enable --py --sys-prefix qgrid\n",
    "# ! jupyter nbextension enable --py --sys-prefix widgetsnbext3ension\n",
    "#\n",
    "# if you are using jupyterlab\n",
    "# ! pip install jupyterlab\n",
    "# ! jupyter labextension install @jupyter-widgets/jupyterlab-manager\n",
    "\n",
    "# Install the qgrid-jupyterlab extension and enable:\n",
    "# ! jupyter labextension install qgrid\n",
    "\n",
    "# Requirements:\n",
    "#   ipywidgets -> pip install ipywidgets (or pip install --upgrade ipywidgets)\n",
    "\n",
    "import ipywidgets as widgets\n",
    "import qgrid\n",
    "\n",
    "\n",
    "#qgrid.show_grid(eu_metro_areas, show_toolbar=True)\n",
    "qgrid_widget=qgrid.show_grid(eu_metro_areas)\n",
    "qgrid_widget\n",
    "\n",
    "# if you want to assign the result of a filtering or the changes\n",
    "# your_new_df =qgrid_wodget.get_changed_df()"
   ]
  },
  {
   "cell_type": "markdown",
   "metadata": {},
   "source": [
    "<b><font color=\"red\" size=6>Mission 1</font>\n",
    "\n",
    "a) Create two imaginary datasets. One with a dictionnary and the other\n",
    "using lists\n",
    "\n",
    "b) Import the Excel file VideoGameSales that you downloaded from the Moodle\n",
    "</b>"
   ]
  },
  {
   "cell_type": "code",
   "execution_count": null,
   "metadata": {},
   "outputs": [],
   "source": [
    "#1a.Create imaginary dataset with dictionary\n",
    "imaginary1 = pd.DataFrame({\"Name\":[\"Petro\",\"Maurice\",\"Amanda\",\"Racha\"], \"Last Name\":[\"Malkoun\",\"Lawandos\", \"Sfeir\",\"Chamoun\"], \n",
    "                           \"Age\":[\"25\",\"24\",\"22\",\"23\"]})\n",
    "imaginary1\n",
    "\n",
    "#Create imaginary dataset with lists\n",
    "imaginary2 = pd.DataFrame([[\"BMW\",\"Jeep\",\"250\"], [\"Mercedes\",\"Car\",\"200\"], \n",
    "                            [\"Hyundai\",\"Motorcycle\",\"150\"],[\"Kia\",\"SUV\",\"260\"] ], columns=[\"Brand\", \"Type\",\"Horsepower\"])\n",
    "imaginary2"
   ]
  },
  {
   "cell_type": "code",
   "execution_count": null,
   "metadata": {},
   "outputs": [],
   "source": [
    "#1b.Import the Excel file VideoGameSales that you downloaded from the Moodle\n",
    "VideoGames = pd.read_excel(\"VideoGamesSales.xlsx\")\n",
    "VideoGames.head()"
   ]
  },
  {
   "cell_type": "code",
   "execution_count": null,
   "metadata": {
    "scrolled": true
   },
   "outputs": [],
   "source": [
    "VideoGames.tail()"
   ]
  },
  {
   "cell_type": "markdown",
   "metadata": {},
   "source": [
    "# Explore"
   ]
  },
  {
   "cell_type": "code",
   "execution_count": null,
   "metadata": {},
   "outputs": [],
   "source": [
    "# Summary information of the dataframe\n",
    "#\n",
    "eu_metro_areas.info()"
   ]
  },
  {
   "cell_type": "code",
   "execution_count": null,
   "metadata": {},
   "outputs": [],
   "source": [
    "# If you only want to know the dimmensions \n",
    "#\n",
    "eu_metro_areas.shape"
   ]
  },
  {
   "cell_type": "code",
   "execution_count": null,
   "metadata": {},
   "outputs": [],
   "source": [
    "# Examine first rows \n",
    "#\n",
    "eu_metro_areas.head(5)"
   ]
  },
  {
   "cell_type": "code",
   "execution_count": null,
   "metadata": {},
   "outputs": [],
   "source": [
    "# Examine last rows \n",
    "#\n",
    "eu_metro_areas.tail(5)"
   ]
  },
  {
   "cell_type": "code",
   "execution_count": null,
   "metadata": {},
   "outputs": [],
   "source": [
    "# Describe\n",
    "#\n",
    "eu_metro_areas.describe() #gives different stat values"
   ]
  },
  {
   "cell_type": "code",
   "execution_count": null,
   "metadata": {},
   "outputs": [],
   "source": [
    "# ---- Functions ----\n",
    "#   count()      Number or non null observations\n",
    "#   sum()        Sum of values\n",
    "#   mean()       Mean of values\n",
    "#   median()     Arithmetic median of values\n",
    "#   min()        Minimum\n",
    "#   max()        Maximum\n",
    "#   std()        Unbiased standard deviation\n",
    "#   var()        Unbiased variance\n",
    "#\n",
    "eu_metro_areas.mean()\n",
    "eu_metro_areas.mean(axis=1) #row wise - in this case has no sense\n",
    "eu_metro_areas[\"GDP\"].mean()              #bill gates joke\n",
    "eu_metro_areas[\"GDP\"].median()\n",
    "eu_metro_areas[\"GDP\"].std()*2\n",
    "eu_metro_areas[\"GDP\"].quantile(0.8)\n"
   ]
  },
  {
   "cell_type": "code",
   "execution_count": null,
   "metadata": {
    "scrolled": false
   },
   "outputs": [],
   "source": [
    "# If you want to know all about it ... \n",
    "# you have to install first pandas_profiling with \n",
    "# pip install pandas_profiling\n",
    "# ! pip install pandas_profiling\n",
    "import pandas_profiling\n",
    "\n",
    "pandas_profiling.ProfileReport(eu_metro_areas)"
   ]
  },
  {
   "cell_type": "markdown",
   "metadata": {},
   "source": [
    "# Select"
   ]
  },
  {
   "cell_type": "code",
   "execution_count": null,
   "metadata": {},
   "outputs": [],
   "source": [
    "# Data selection\n",
    "\n",
    "eu_metro_areas[\"GDP\"]\n",
    "eu_metro_areas[[\"GDP\",\"Population\"]]\n",
    "eu_metro_areas[:5]\n"
   ]
  },
  {
   "cell_type": "code",
   "execution_count": null,
   "metadata": {},
   "outputs": [],
   "source": [
    "# Filtering\n",
    "\n",
    "# Metro areas with a population > 3M\n",
    "\n",
    "eu_metro_areas[eu_metro_areas[\"Population\"]>3]\n",
    "\n",
    "eu_metro_areas[(eu_metro_areas[\"Population\"]>5) & (eu_metro_areas[\"GDP\"]>150)]\n",
    "\n",
    "criteria=(eu_metro_areas[\"Population\"]>6) & (eu_metro_areas[\"GDP\"]>150)\n",
    "eu_metro_areas[criteria]\n",
    "\n",
    "eu_metro_areas[eu_metro_areas[\"Population\"]>3].head() #or .tail()\n",
    "\n",
    "# .isnull() is very interesting in pre-processing"
   ]
  },
  {
   "cell_type": "code",
   "execution_count": null,
   "metadata": {},
   "outputs": [],
   "source": [
    "# Reversing rows\n",
    "eu_metro_areas[::-1] # normally men7ot r:c:ade bede emche bas now : ya3ne kel chi"
   ]
  },
  {
   "cell_type": "code",
   "execution_count": null,
   "metadata": {},
   "outputs": [],
   "source": [
    "# Reversing rows of a single column\n",
    "\n",
    "eu_metro_areas[\"City\"][::-1]"
   ]
  },
  {
   "cell_type": "code",
   "execution_count": null,
   "metadata": {},
   "outputs": [],
   "source": [
    "# Reversing columns\n",
    "eu_metro_areas[eu_metro_areas.columns[::-1]]"
   ]
  },
  {
   "cell_type": "code",
   "execution_count": null,
   "metadata": {},
   "outputs": [],
   "source": [
    "# Filtering and presenting only some columns\n",
    "\n",
    "eu_metro_areas[eu_metro_areas[\"Eurozone\"]==\"Y\"][[\"City\",\"Population\"]]\n"
   ]
  },
  {
   "cell_type": "markdown",
   "metadata": {},
   "source": [
    "<b><font color=\"red\" size=6>Mission 2</font>\n",
    "\n",
    "a) List all Nintendo Games published after 2010 for WIIU\n",
    "<br>\n",
    "b) List all Video Games with Global Sales larger than the average\n",
    "<br>\n",
    "c) List all Video Games with Global Sales larger than the average\n",
    "with a User and Critic score also higher than the average\n",
    "\n",
    "</b>"
   ]
  },
  {
   "cell_type": "code",
   "execution_count": null,
   "metadata": {},
   "outputs": [],
   "source": [
    "#2a.List all Nintendo Games published after 2010 for WIIU\n",
    "VideoGames = pd.read_excel(\"VideoGamesSales.xlsx\")\n",
    "# VideoGames.info()\n",
    "twoa=VideoGames[(VideoGames['Year_of_Release']>2010) & (VideoGames['Publisher']=='Nintendo') \n",
    "                & (VideoGames['Platform']=='WiiU')]\n",
    "twoa.head()\n"
   ]
  },
  {
   "cell_type": "code",
   "execution_count": null,
   "metadata": {},
   "outputs": [],
   "source": [
    "#2b.List all Video Games with Global Sales larger than the average \n",
    "VideoGames = pd.read_excel(\"VideoGamesSales.xlsx\")\n",
    "# VideoGames.info()\n",
    "VideoGames = VideoGames[pd.notnull(VideoGames['Global_Sales'])]\n",
    "twob=VideoGames[VideoGames['Global_Sales'] > VideoGames.Global_Sales.mean()]\n",
    "twob.head()\n"
   ]
  },
  {
   "cell_type": "code",
   "execution_count": null,
   "metadata": {},
   "outputs": [],
   "source": [
    "#2c.List all Video Games with Global Sales larger than the average with a User and Critic score also higher than the average\n",
    "VideoGames = pd.read_excel(\"VideoGamesSales.xlsx\")\n",
    "# VideoGames.info()\n",
    "VideoGames.User_Score=pd.to_numeric(VideoGames.User_Score,errors='coerce')\n",
    "VideoGames=VideoGames.replace('tbd',np.nan)\n",
    "VideoGames.dropna(inplace=True)\n",
    "\n",
    "twoc = VideoGames[(VideoGames['Global_Sales'] > VideoGames['Global_Sales'].mean()) \n",
    "                  & (VideoGames['User_Score'] > VideoGames['User_Score'].mean())\n",
    "                  & (VideoGames['Critic_Score'] > VideoGames['Critic_Score'].mean())]\n",
    "twoc.head()\n"
   ]
  },
  {
   "cell_type": "markdown",
   "metadata": {},
   "source": [
    "# Data Manipulation & Cleaning"
   ]
  },
  {
   "cell_type": "code",
   "execution_count": null,
   "metadata": {},
   "outputs": [],
   "source": [
    "# Manipulating data\n",
    "\n",
    "eu_metro_areas[\"GDP\"]/eu_metro_areas[\"Population\"]\n",
    "eu_metro_areas[[\"City\",\"GDP per Capita\"]]\n",
    "\n"
   ]
  },
  {
   "cell_type": "code",
   "execution_count": null,
   "metadata": {},
   "outputs": [],
   "source": [
    "z=eu_metro_areas[\"Population\"].apply(np.sqrt)\n",
    "z\n",
    "eu_metro_areas[\"Population\"].apply(lambda d: d**2)\n",
    "eu_metro_areas[\"High Population\"]=eu_metro_areas[\"Population\"].apply(lambda x: (\"Yes\" if x>=10 else \"No\"))\n",
    "eu_metro_areas\n",
    "eu_metro_areas[\"Population\"]/100\n"
   ]
  },
  {
   "cell_type": "code",
   "execution_count": null,
   "metadata": {},
   "outputs": [],
   "source": [
    "# we can also use full functions\n",
    "\n",
    "eu_metro_areas.drop(\"High Population\", axis=1, inplace=True)\n",
    "\n",
    "def high_population(x):\n",
    "    if x>=10:\n",
    "        return \"Yes\"\n",
    "    else:\n",
    "        return \"No\"\n",
    "    \n",
    "eu_metro_areas[\"High Population\"]=eu_metro_areas[\"Population\"].apply(high_population) #hon hay l function\n",
    "eu_metro_areas"
   ]
  },
  {
   "cell_type": "code",
   "execution_count": null,
   "metadata": {
    "scrolled": true
   },
   "outputs": [],
   "source": [
    "# encoding \n",
    "#hon we make a dictionary\n",
    "z=eu_metro_areas.copy()\n",
    "\n",
    "map_eurozone={\"Y\":1,\"N\":0}\n",
    "map_highpopulation={\"Yes\":1,\"No\":0}\n",
    "\n",
    "z[\"Eurozone\"]=z[\"Eurozone\"].map(map_eurozone)\n",
    "z[\"High Population\"]=z[\"High Population\"].map(map_highpopulation)\n",
    "z\n"
   ]
  },
  {
   "cell_type": "code",
   "execution_count": null,
   "metadata": {},
   "outputs": [],
   "source": [
    "# Adding a new colum\n",
    "\n",
    "eu_metro_areas[\"GDP Norm\"]=eu_metro_areas[\"GDP\"]/eu_metro_areas[\"GDP\"].max()\n",
    "eu_metro_areas"
   ]
  },
  {
   "cell_type": "code",
   "execution_count": null,
   "metadata": {},
   "outputs": [],
   "source": [
    "# Dropping a column\n",
    "\n",
    "eu_metro_areas.drop(\"GDP Norm\", axis=1, inplace=True)\n",
    "eu_metro_areas\n",
    "# eu_metro.Eurozone.sum('N')\n",
    "# help(sum)\n"
   ]
  },
  {
   "cell_type": "code",
   "execution_count": null,
   "metadata": {},
   "outputs": [],
   "source": [
    "# Dropping a column\n",
    "\n",
    "eu_metro_areas.drop(\"High Population\", axis=1)\n",
    "eu_metro_areas\n"
   ]
  },
  {
   "cell_type": "code",
   "execution_count": null,
   "metadata": {},
   "outputs": [],
   "source": [
    "# Append a row --> it always mean at the end\n",
    "# if we want the function to generate automatically chi hek al \n",
    "z=eu_metro_areas.append({\"City\": \"Nowhere\",\"Eurozone\":\"N\",\"GDP\":100,\"GDP per Capita\": 10,\"Population\":10,\"Rank\":13}, \n",
    "                     ignore_index = True)\n",
    "z"
   ]
  },
  {
   "cell_type": "code",
   "execution_count": null,
   "metadata": {},
   "outputs": [],
   "source": [
    "# Drop a row\n",
    "\n",
    "# p=z[(z.City != 'Nowhere') & (z.GDP != 669)]\n",
    "z.drop(12, axis=0, inplace = True)\n",
    "z\n",
    "# restore index order after dropping \n",
    "\n",
    "# p=p.reset_index(drop=True)\n",
    "# p"
   ]
  },
  {
   "cell_type": "code",
   "execution_count": null,
   "metadata": {},
   "outputs": [],
   "source": [
    "# Dropping null values\n",
    "\n",
    "z=eu_metro_areas.append({\"City\": \"Nowhere\",\"Eurozone\":\"N\",\"Rank\":13}, \n",
    "                     ignore_index = True)\n",
    "# if you don't use copy, you'll be referencing the same data frame\n",
    "# a pointer and not a different data frame\n",
    "z1=z.copy() \n",
    "z\n",
    "\n",
    "z.dropna(inplace=True)\n",
    "z\n",
    "\n",
    "z1.dropna( subset=[\"GDP\"], inplace=True)\n",
    "z1"
   ]
  },
  {
   "cell_type": "code",
   "execution_count": null,
   "metadata": {},
   "outputs": [],
   "source": [
    "# Imputing null values with the mean of the column\n",
    "#fill the null values with the median or 0!! \n",
    "z=eu_metro_areas.append({\"City\": \"Nowhere\",\"Eurozone\":\"N\",\"Rank\":13}, \n",
    "                     ignore_index = True)\n",
    "z\n",
    "z[\"GDP\"].fillna(z[\"GDP\"].mean(), inplace=True)\n",
    "z"
   ]
  },
  {
   "cell_type": "code",
   "execution_count": null,
   "metadata": {},
   "outputs": [],
   "source": [
    "# Replacing weird characters replace\n",
    "\n",
    "z.replace({\"Nowhere\":\"A city\"}, inplace=True)\n",
    "z\n"
   ]
  },
  {
   "cell_type": "code",
   "execution_count": null,
   "metadata": {},
   "outputs": [],
   "source": [
    "# Changing column names \n",
    "\n",
    "z.rename(columns={\"GDP_per_Capita\":\"GDP/capita\", \"High Population\":\"Big\"}, inplace=True)\n",
    "z\n"
   ]
  },
  {
   "cell_type": "code",
   "execution_count": null,
   "metadata": {},
   "outputs": [],
   "source": [
    "# Writing the result in a csv o Excell file \n",
    "# do that as a csv or excel and put a name; remember csv default is coma! that's the only difference\n",
    "eu_metro_areas.to_csv('My_metro_areas.csv', sep=',')\n",
    "\n",
    "eu_metro_areas.to_excel(\"My_metro_areas.xlsx\")"
   ]
  },
  {
   "cell_type": "markdown",
   "metadata": {},
   "source": [
    "# Sorting & Grouping"
   ]
  },
  {
   "cell_type": "code",
   "execution_count": null,
   "metadata": {},
   "outputs": [],
   "source": [
    "# Sorting\n",
    "\n",
    "eu_metro_areas.sort_values(by=\"Population\", ascending = False)\n",
    "eu_metro_areas.sort_values(by=\"City\", ascending = True)\n",
    "#eu chi katab ta ttla3"
   ]
  },
  {
   "cell_type": "code",
   "execution_count": null,
   "metadata": {},
   "outputs": [],
   "source": [
    "eu_metro_areas.sort_values(by=\"Population\", ascending = False, inplace=True)\n",
    "eu_metro_areas\n",
    "# adjust the index!! so we re aranged the table\n",
    "eu_metro_areas.sort_index(axis=0, ascending=True, inplace=True)\n",
    "eu_metro_areas"
   ]
  },
  {
   "cell_type": "code",
   "execution_count": null,
   "metadata": {},
   "outputs": [],
   "source": [
    "# Grouping\n",
    "#1 or several columns\n",
    "eu_metro_areas[[\"Eurozone\", \"GDP\",\"Population\"]].groupby([\"Eurozone\"]).sum()\n",
    "eu_metro_areas[[\"Eurozone\", \"GDP\",\"Population\"]].groupby([\"Eurozone\"]).mean()"
   ]
  },
  {
   "cell_type": "markdown",
   "metadata": {},
   "source": [
    "<b><font color=\"red\" size=6>Mission 3</font>\n",
    "\n",
    "a) Short the names of Publishers (ex. \"Warner Bros. Interactive Entertainment\" by \"Warner Bros\" )\n",
    "<br>\n",
    "b) List the sales of Nintendo Games grouped by year\n",
    "<br>\n",
    "c) List sales grouped by Publisher and year\n",
    "<br>\n",
    "d) List the top 10 publishers of the last 5 years ordered by sales\n",
    "<br>\n",
    "</b>"
   ]
  },
  {
   "cell_type": "code",
   "execution_count": null,
   "metadata": {},
   "outputs": [],
   "source": [
    "#3a.Short the names of Publishers (ex. \"Warner Bros. Interactive Entertainment\" by \"Warner Bros\" )\n",
    "VideoGames = pd.read_excel(\"VideoGamesSales.xlsx\")\n",
    "VideoGames['Publisher'].replace('', np.nan, inplace=True)\n",
    "VideoGames.dropna(inplace=True)\n",
    "\n",
    "VideoGames['Publisher']=VideoGames.Publisher.apply(lambda x: '' if 'Entertainment' in x else x)\n",
    "VideoGames['Publisher']=VideoGames.Publisher.apply(lambda x: '' if 'Interactive' in x else x)\n",
    "VideoGames['Publisher']=VideoGames.Publisher.apply(lambda x: '' if 'Corporation' in x else x)\n",
    "VideoGames['Publisher']=VideoGames.Publisher.apply(lambda x: '' if 'Software' in x else x)\n",
    "VideoGames['Publisher']=VideoGames.Publisher.apply(lambda x: '' if 'Studios' in x else x)\n",
    "\n",
    "VideoGames.Publisher.value_counts()\n"
   ]
  },
  {
   "cell_type": "code",
   "execution_count": null,
   "metadata": {
    "scrolled": false
   },
   "outputs": [],
   "source": [
    "#3b.List the sales of Nintendo Games grouped by year \n",
    "threeb = VideoGames[VideoGames['Publisher']=='Nintendo']\n",
    "threeb.groupby(by='Year_of_Release')[['Global_Sales','EU_Sales','JP_Sales',\n",
    "                                      'Other_Sales','NA_Sales']].sum()\n"
   ]
  },
  {
   "cell_type": "code",
   "execution_count": null,
   "metadata": {},
   "outputs": [],
   "source": [
    "#3c.List sales grouped by Publisher and year \n",
    "threec = VideoGames.groupby(by=['Publisher','Year_of_Release'])[['Global_Sales','EU_Sales','JP_Sales',\n",
    "                                                                 'Other_Sales','NA_Sales']].sum()\n",
    "threec.sort_values('Global_Sales',ascending=False)\n",
    "# threec"
   ]
  },
  {
   "cell_type": "code",
   "execution_count": null,
   "metadata": {},
   "outputs": [],
   "source": [
    "#3d.List the top 10 publishers of the last 5 years ordered by sales\n",
    "fil1 = VideoGames.replace('tbd',np.nan)\n",
    "fil1 = fil1.dropna(subset = ['User_Score'])\n",
    "threed = VideoGames[VideoGames['Year_of_Release'] > fil1.Year_of_Release.max()-5]\n",
    "threed = threed[['Publisher','Global_Sales']].groupby('Publisher').sum()\n",
    "threed.sort_values(by='Global_Sales', ascending=False,inplace=True)\n",
    "threed.head(10)\n",
    "\n",
    "            "
   ]
  },
  {
   "cell_type": "markdown",
   "metadata": {},
   "source": [
    "# Pivot Tables "
   ]
  },
  {
   "cell_type": "markdown",
   "metadata": {},
   "source": [
    "![text](pivot-table-datasheet.png)"
   ]
  },
  {
   "cell_type": "code",
   "execution_count": null,
   "metadata": {},
   "outputs": [],
   "source": [
    "# Pivot tables\n",
    "\n",
    "eu_metro_areas.pivot_table(columns=[\"City\"])\n"
   ]
  },
  {
   "cell_type": "code",
   "execution_count": null,
   "metadata": {},
   "outputs": [],
   "source": [
    "# Pivot tables\n",
    "# http://pbpython.com/pandas-pivot-table-explained.html\n",
    "\n",
    "eu_metro_areas.pivot_table(index=[\"Eurozone\", \"City\"], values=[\"Population\",\"GDP\"])\n"
   ]
  },
  {
   "cell_type": "code",
   "execution_count": null,
   "metadata": {},
   "outputs": [],
   "source": [
    "eu_metro_areas.pivot_table(columns=[\"Eurozone\"], values=[\"GDP\"], aggfunc=np.sum)\n",
    "eu_metro_areas.pivot_table(columns=[\"Eurozone\"], values=[\"GDP\"], aggfunc=np.mean)"
   ]
  },
  {
   "cell_type": "code",
   "execution_count": null,
   "metadata": {},
   "outputs": [],
   "source": [
    "eu_metro_areas[\"Count\"]=1\n",
    "eu_metro_areas.head()\n",
    "eu_metro_areas.pivot_table(columns=[\"Eurozone\"], values=[\"Count\"], aggfunc=np.sum)"
   ]
  },
  {
   "cell_type": "markdown",
   "metadata": {},
   "source": [
    "<b><font color=\"red\" size=6>Mission 4</font>\n",
    "\n",
    "a) List the Publishers in the columns and the different sales in the rows\n",
    "<br>\n",
    "b) Count the number of game titles per publisher\n",
    "<br>\n",
    "c) Display Platform in columns and sales in rows\n",
    "<br>\n",
    "</b>"
   ]
  },
  {
   "cell_type": "code",
   "execution_count": null,
   "metadata": {},
   "outputs": [],
   "source": [
    "#4a.List the Publishers in the columns and the different sales in the rows \n",
    "foura= VideoGames.pivot_table(columns='Publisher', values=['Global_Sales','EU_Sales', 'JP_Sales', 'Other_Sales','NA_Sales']\n",
    "                       ,aggfunc=np.sum)\n",
    "foura.sort_values(by=['3DO'],ascending=False)\n"
   ]
  },
  {
   "cell_type": "code",
   "execution_count": null,
   "metadata": {},
   "outputs": [],
   "source": [
    "#4b.Count the number of game titles per publisher \n",
    "VideoGames[\"Game_Titles\"]=1\n",
    "fourb=VideoGames.pivot_table(columns=['Publisher'], values=['Game_Titles'], aggfunc=np.sum)\n",
    "fourb"
   ]
  },
  {
   "cell_type": "code",
   "execution_count": null,
   "metadata": {},
   "outputs": [],
   "source": [
    "#4c.Display Platform in columns and sales in rows \n",
    "fourc=VideoGames.pivot_table(columns= 'Platform', values = ['Global_Sales','EU_Sales',\n",
    "                                                            'JP_Sales', 'Other_Sales','NA_Sales'], aggfunc=np.sum)\n",
    "fourc.sort_values(by=['3DS'],ascending=False)\n"
   ]
  },
  {
   "cell_type": "markdown",
   "metadata": {},
   "source": [
    "# Plots"
   ]
  },
  {
   "cell_type": "code",
   "execution_count": null,
   "metadata": {},
   "outputs": [],
   "source": [
    "# distribution plots (petro: automatically finds w distribution)\n",
    "eu_metro_areas=pd.read_excel(\"eu_metro_areas.xlsx\")\n",
    "sns.distplot(eu_metro_areas[\"GDP\"])\n",
    "plt.figure()\n",
    "sns.distplot(eu_metro_areas[\"GDP\"],bins=7,rug=True)  #hay bins ya3ne l tal3in men \n",
    "# tahet l lines!!  kel bin kam element 3ande!\n"
   ]
  },
  {
   "cell_type": "code",
   "execution_count": null,
   "metadata": {},
   "outputs": [],
   "source": [
    "# Joint Plots\n",
    "sns.jointplot(x=\"GDP\",y=\"Population\",data=eu_metro_areas, kind=\"reg\")\n",
    "sns.jointplot(x=\"GDP per Capita\",y=\"Population\",data=eu_metro_areas, kind=\"reg\")"
   ]
  },
  {
   "cell_type": "code",
   "execution_count": null,
   "metadata": {
    "scrolled": false
   },
   "outputs": [],
   "source": [
    "# Pair plots\n",
    "#each variable vs each variable and in the diagonal I do a distribution w stuff ta a3rif iza fi correlation\n",
    "sns.pairplot(eu_metro_areas, kind=\"reg\")\n",
    "sns.pairplot(eu_metro_areas, kind=\"reg\",diag_kind=\"kde\") # kernel density estimation"
   ]
  },
  {
   "cell_type": "code",
   "execution_count": null,
   "metadata": {},
   "outputs": [],
   "source": [
    "# Pair plots only with some variables\n",
    "\n",
    "plt.figure(figsize=(10,10))\n",
    "\n",
    "sns.pairplot(eu_metro_areas, x_vars=[\"GDP\",\"Population\"], y_vars=[\"GDP per Capita\"], kind=\"reg\", height=5)"
   ]
  },
  {
   "cell_type": "markdown",
   "metadata": {},
   "source": [
    "<b><font color=\"red\" size=6>Mission 5</font>\n",
    "\n",
    "a) List sales (all) by year and by genre \n",
    "<br>\n",
    "b) For the last 5 years, sales by platform and sales by publisher\n",
    "<br>\n",
    "c) We want to explore a relationship between sales (all) and critic & user scores.\n",
    "<br>\n",
    "</b>"
   ]
  },
  {
   "cell_type": "code",
   "execution_count": null,
   "metadata": {},
   "outputs": [],
   "source": [
    "#5a.List sales (all) by year and by genre \n",
    "\n",
    "fivea = VideoGames.groupby(by=['Genre','Year_of_Release'])[['Global_Sales','EU_Sales','JP_Sales', 'Other_Sales','NA_Sales']].sum()\n",
    "fivea\n",
    "\n"
   ]
  },
  {
   "cell_type": "code",
   "execution_count": null,
   "metadata": {},
   "outputs": [],
   "source": [
    "#5b.For the last 5 years, sales by platform and sales by publisher \n",
    "fiveb = VideoGames[VideoGames['Year_of_Release'] >= VideoGames.Year_of_Release.max()-5]\n",
    "fiveb = fiveb[['Platform','Publisher','Global_Sales','NA_Sales','EU_Sales',\n",
    "               'Other_Sales','JP_Sales']].groupby(['Platform','Publisher']).sum()\n",
    "fiveb"
   ]
  },
  {
   "cell_type": "code",
   "execution_count": null,
   "metadata": {
    "scrolled": false
   },
   "outputs": [],
   "source": [
    "#5c.We want to explore a relationship between sales (all) and critic & user scores. \n",
    "VideoGames['User_Score']=VideoGames['User_Score'].astype(float)\n",
    "fig, axs = plt.subplots(3, 2)\n",
    "axs[0, 0].scatter(VideoGames.User_Score, VideoGames.Global_Sales)\n",
    "axs[0, 0].set_title('Global Sales vs User Score')\n",
    "axs[0, 1].scatter(VideoGames.User_Score, VideoGames.NA_Sales)\n",
    "axs[0, 1].set_title('NA Sales vs User Score')\n",
    "axs[1, 0].scatter(VideoGames.User_Score, VideoGames.EU_Sales)\n",
    "axs[1, 0].set_title('EU Sales vs User Score')\n",
    "axs[1, 1].scatter(VideoGames.User_Score, VideoGames.Other_Sales)\n",
    "axs[1, 1].set_title('Other Sales vs User Score')\n",
    "axs[2,0].scatter(VideoGames.User_Score, VideoGames.JP_Sales)\n",
    "axs[2, 0].set_title('JP Sales vs User Score')\n",
    "fig, axs = plt.subplots(3, 2)\n",
    "axs[0, 0].scatter(VideoGames.Critic_Score, VideoGames.Global_Sales)\n",
    "axs[0, 0].set_title('Global Sales vs Critic Score')\n",
    "axs[0, 1].scatter(VideoGames.Critic_Score, VideoGames.NA_Sales)\n",
    "axs[0, 1].set_title('NA Sales vs Critic Score')\n",
    "axs[1, 0].scatter(VideoGames.Critic_Score, VideoGames.EU_Sales)\n",
    "axs[1, 0].set_title('EU Sales vs Critic Score')\n",
    "axs[1, 1].scatter(VideoGames.Critic_Score, VideoGames.Other_Sales)\n",
    "axs[1, 1].set_title('Other Sales vs Critic Score')\n",
    "axs[2,0].scatter(VideoGames.Critic_Score, VideoGames.JP_Sales)\n",
    "axs[2, 0].set_title('JP Sales vs Critic Score')"
   ]
  },
  {
   "cell_type": "markdown",
   "metadata": {},
   "source": [
    "# Join & Merge"
   ]
  },
  {
   "cell_type": "markdown",
   "metadata": {},
   "source": [
    "<img src=\"joins.jpg\" width=900 >\n"
   ]
  },
  {
   "cell_type": "code",
   "execution_count": null,
   "metadata": {},
   "outputs": [],
   "source": [
    "# joins are the basic tool for querying databases\n",
    "# relational databases are in fact based in joins\n",
    "# with Data Frames we can do exactly the same\n",
    "# let's first have two hypothetical tables\n",
    "\n",
    "df1 = pd.DataFrame({'name':['John', 'George','Ringo'],'color': ['Blue','Blue','Purple']})\n",
    "df2 = pd.DataFrame({'name':['Paul','George','Ringo'],'carcolor':['Red','Blue',np.nan]},index=[3,1,2])\n",
    "df1\n",
    "df2\n"
   ]
  },
  {
   "cell_type": "code",
   "execution_count": null,
   "metadata": {},
   "outputs": [],
   "source": [
    "# our first operation is not a join, \n",
    "# but a concatenation of the two tables\n",
    "# by defalt concat preserves index values\n",
    "pd.concat([df1,df2])\n",
    "\n",
    "# but we can ignore them if we want\n",
    "pd.concat([df1,df2], ignore_index=True)\n",
    "\n",
    "# we can also concat by rows instead of columns\n",
    "pd.concat([df1,df2],axis=1)\n"
   ]
  },
  {
   "cell_type": "code",
   "execution_count": null,
   "metadata": {},
   "outputs": [],
   "source": [
    "d1=pd.DataFrame({'name':['A','B','B','C'],'size':[1,2,3,4]})\n",
    "\n",
    "d2=pd.DataFrame({'name':['C','C','D','D'],'value':[10,9,8,7]},index=[3,1,2,4])\n",
    "\n",
    "d1\n",
    "d2\n",
    "\n",
    "d1.merge(d2, on='name')                    # inner join\n",
    "d1.merge(d2, how='outer', on='name')       #outer join\n",
    "d1.merge(d2, how='left',  on='name')       #left join\n",
    "d1.merge(d2, how='right', on='name')       # right join\n"
   ]
  },
  {
   "cell_type": "code",
   "execution_count": null,
   "metadata": {},
   "outputs": [],
   "source": [
    "#You can also use SQL with pandasql\n",
    "#\n",
    "#!pip install pandasql\n",
    "import pandasql\n",
    "\n",
    "pandasql.sqldf(\"select * from eu_metro_areas;\")\n",
    "\n",
    "pandasql.sqldf(\"select * from eu_metro_areas where Eurozone='Y';\")\n",
    "\n"
   ]
  },
  {
   "cell_type": "markdown",
   "metadata": {},
   "source": [
    "<b><font color=\"red\" size=6>Mission 6</font>\n",
    "\n",
    "For this and the next mission we will use data from Kaggle\n",
    "In concrete from the World University Rankings Competition\n",
    "https://www.kaggle.com/mylesoneill/world-university-rankings\n",
    "    \n",
    "In this first mission with the rankings we will focus on the Times Ranking\n",
    "\n",
    "a) Find the top 50 universities of the top 10 countries and see how do they compare. \n",
    "Are their rankings clustered? Are there very few good ones or there is a high dispersion. \n",
    "<br>\n",
    "</b>"
   ]
  },
  {
   "cell_type": "code",
   "execution_count": null,
   "metadata": {},
   "outputs": [],
   "source": [
    "# 6a. top 50 unis in top 10 countries\n"
   ]
  },
  {
   "cell_type": "code",
   "execution_count": null,
   "metadata": {},
   "outputs": [],
   "source": [
    "import matplotlib\n",
    "# matplotlib.use('GTK')\n",
    "import matplotlib.pyplot as plt\n",
    "# import matplotlib\n",
    "# import matplotlib.plot as plt\n",
    "# matplotlib.use('Tkinter')\n",
    "tid = pd.read_csv(\"timesData.csv\")\n",
    "tid.head()\n",
    "\n",
    "# tid.info()\n",
    "tid['total_score']=pd.to_numeric(tid.total_score, errors='coerce')\n",
    "\n",
    "#sorting by total score\n",
    "tid=tid.sort_values(by='total_score',ascending=False)\n",
    "tidnew=tid.pivot_table(index=[\"country\", \"university_name\"], values=[\"total_score\"]).reset_index().sort_values(by='total_score',ascending=False)\n",
    "tidnew.head()\n",
    "tidnew.replace({\"United States of America\":\"USA\"}, inplace=True)\n",
    "\n",
    "#top 50 Universities\n",
    "tid50=tidnew.head(50)\n",
    "\n",
    "tid_count  = tid50['country'].value_counts()\n",
    "tid_count\n",
    "\n",
    "#top 10 countries\n",
    "tid_count = tid_count[:10,]\n",
    "\n",
    "plt.figure(figsize=(12,7))\n",
    "sns.barplot(tid_count.index, tid_count.values,alpha=0.8)\n",
    "plt.title('Distribution of the Top 50 Universities in the Top 10 countries', fontsize=16)\n",
    "plt.ylabel('Number of Universities in Top 50', fontsize=14)\n",
    "plt.xlabel('Country Name', fontsize=14)\n",
    "fig.savefig('demo.png', bbox_inches='tight')\n",
    "plt.show()\n",
    "# plt.savefig('demo.png', bbox_inches='tight')\n"
   ]
  },
  {
   "cell_type": "code",
   "execution_count": null,
   "metadata": {},
   "outputs": [],
   "source": [
    "#The top 50 Universities are clustered in the USA: most of the top Universities are located there\n",
    "# We can also identify a small concentration of data in the UK but in the other countries it is a very low distribution"
   ]
  },
  {
   "cell_type": "markdown",
   "metadata": {},
   "source": [
    "<b><font color=\"red\" size=6>Mission 7</font>\n",
    "\n",
    "In this last mission we will compare two rankings: Shangai and Times. \n",
    "The objective is to find out how well they correlate per country and globally. \n",
    "We will use a sample and focus on the best 100 universities. \n",
    "<br>\n",
    "</b>"
   ]
  },
  {
   "cell_type": "code",
   "execution_count": null,
   "metadata": {},
   "outputs": [],
   "source": [
    "sid = pd.read_csv('shanghaiData.csv')\n",
    "tid = pd.read_csv(\"timesData.csv\")\n",
    "# tid.head()\n",
    "# sid.head()\n",
    "# sid.info()\n",
    "tid['total_score']=pd.to_numeric(tid.total_score, errors='coerce')\n",
    "tid=tid.iloc[0:100,:]\n",
    "sid=sid.iloc[0:100,:]\n",
    "\n",
    "merge=tid.merge(sid, on=['university_name'],how='inner')\n",
    "merge['total_score_x'].corr(merge['total_score_y'])\n",
    "sns.pairplot(merge, x_vars=[\"total_score_x\"], y_vars=[\"total_score_y\"], kind=\"reg\", size=5)\n",
    "\n"
   ]
  },
  {
   "cell_type": "code",
   "execution_count": null,
   "metadata": {},
   "outputs": [],
   "source": []
  }
 ],
 "metadata": {
  "kernelspec": {
   "display_name": "Python 3",
   "language": "python",
   "name": "python3"
  },
  "language_info": {
   "codemirror_mode": {
    "name": "ipython",
    "version": 3
   },
   "file_extension": ".py",
   "mimetype": "text/x-python",
   "name": "python",
   "nbconvert_exporter": "python",
   "pygments_lexer": "ipython3",
   "version": "3.7.4"
  }
 },
 "nbformat": 4,
 "nbformat_minor": 2
}
